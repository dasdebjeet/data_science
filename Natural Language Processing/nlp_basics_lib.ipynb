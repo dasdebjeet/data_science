{
 "cells": [
  {
   "cell_type": "markdown",
   "id": "87bf4e45-e051-46ab-b4d3-132d5cc44304",
   "metadata": {},
   "source": [
    "# Basic NLP library"
   ]
  },
  {
   "cell_type": "markdown",
   "id": "beecca82-e2ee-42ac-a3bf-c6a739d3c266",
   "metadata": {},
   "source": [
    "## 1. SPACY (Object Oriented)"
   ]
  },
  {
   "cell_type": "code",
   "execution_count": 1,
   "id": "577710b6-65b6-49e2-9655-5a0df80cc3a7",
   "metadata": {},
   "outputs": [],
   "source": [
    "import spacy"
   ]
  },
  {
   "cell_type": "code",
   "execution_count": 3,
   "id": "967054aa-3d4e-4249-85c9-8fb88f7a22fa",
   "metadata": {},
   "outputs": [],
   "source": [
    "nlp = spacy.load(\"en_core_web_sm\")\n",
    "doc = nlp(\"Dr. Strange loves chinese food of China town. Captain America loves briyani of Hyderabad\")"
   ]
  },
  {
   "cell_type": "code",
   "execution_count": 4,
   "id": "d0e2a67d-1e16-4e0e-8f0d-86cd1f2c2965",
   "metadata": {},
   "outputs": [
    {
     "name": "stdout",
     "output_type": "stream",
     "text": [
      "Dr. Strange loves chinese food of China town.\n",
      "Captain America loves briyani of Hyderabad\n"
     ]
    }
   ],
   "source": [
    "for sentence in doc.sents:\n",
    "    print(sentence)"
   ]
  },
  {
   "cell_type": "code",
   "execution_count": 5,
   "id": "e4554df5-4f60-46d5-bddf-9915378529d7",
   "metadata": {},
   "outputs": [
    {
     "name": "stdout",
     "output_type": "stream",
     "text": [
      "Dr.\n",
      "Strange\n",
      "loves\n",
      "chinese\n",
      "food\n",
      "of\n",
      "China\n",
      "town\n",
      ".\n",
      "Captain\n",
      "America\n",
      "loves\n",
      "briyani\n",
      "of\n",
      "Hyderabad\n"
     ]
    }
   ],
   "source": [
    "for sentence in doc.sents:\n",
    "    for word in sentence:\n",
    "        print(word)"
   ]
  },
  {
   "cell_type": "code",
   "execution_count": null,
   "id": "70da97b3-9d0f-432c-ad63-9d31eab723f5",
   "metadata": {},
   "outputs": [],
   "source": []
  },
  {
   "cell_type": "markdown",
   "id": "ada3c490-8251-4052-ac3b-f8eb80315667",
   "metadata": {},
   "source": [
    "## 2. NLTK"
   ]
  },
  {
   "cell_type": "code",
   "execution_count": 10,
   "id": "97ee8537-1784-416c-bb18-f8132b5624ed",
   "metadata": {},
   "outputs": [
    {
     "name": "stderr",
     "output_type": "stream",
     "text": [
      "[nltk_data] Downloading package punkt to\n",
      "[nltk_data]     C:\\Users\\debje\\AppData\\Roaming\\nltk_data...\n",
      "[nltk_data]   Unzipping tokenizers\\punkt.zip.\n"
     ]
    },
    {
     "data": {
      "text/plain": [
       "True"
      ]
     },
     "execution_count": 10,
     "metadata": {},
     "output_type": "execute_result"
    }
   ],
   "source": [
    "import nltk\n",
    "nltk.download(\"punkt\")"
   ]
  },
  {
   "cell_type": "code",
   "execution_count": 11,
   "id": "ea5c92ab-481a-406f-a8f2-d3030567c3cd",
   "metadata": {},
   "outputs": [
    {
     "data": {
      "text/plain": [
       "['Dr.',\n",
       " 'Strange loves chinese food of China town.',\n",
       " 'Captain America loves briyani of Hyderabad']"
      ]
     },
     "execution_count": 11,
     "metadata": {},
     "output_type": "execute_result"
    }
   ],
   "source": [
    "from nltk.tokenize import sent_tokenize\n",
    "\n",
    "sent_tokenize(\"Dr. Strange loves chinese food of China town. Captain America loves briyani of Hyderabad\")"
   ]
  },
  {
   "cell_type": "code",
   "execution_count": 12,
   "id": "55f37b98-0538-4cbc-b24a-163e2a68df66",
   "metadata": {},
   "outputs": [
    {
     "data": {
      "text/plain": [
       "['Dr',\n",
       " '.',\n",
       " 'Strange',\n",
       " 'loves',\n",
       " 'chinese',\n",
       " 'food',\n",
       " 'of',\n",
       " 'China',\n",
       " 'town',\n",
       " '.',\n",
       " 'Captain',\n",
       " 'America',\n",
       " 'loves',\n",
       " 'briyani',\n",
       " 'of',\n",
       " 'Hyderabad']"
      ]
     },
     "execution_count": 12,
     "metadata": {},
     "output_type": "execute_result"
    }
   ],
   "source": [
    "from nltk.tokenize import word_tokenize\n",
    "\n",
    "word_tokenize(\"Dr. Strange loves chinese food of China town. Captain America loves briyani of Hyderabad\")"
   ]
  },
  {
   "cell_type": "code",
   "execution_count": null,
   "id": "30156d1a-e687-4a41-a61c-df6d7ff7a9c6",
   "metadata": {},
   "outputs": [],
   "source": []
  },
  {
   "cell_type": "code",
   "execution_count": null,
   "id": "c91ce36a-ca4b-4255-93bf-424086a4eae3",
   "metadata": {},
   "outputs": [],
   "source": []
  },
  {
   "cell_type": "markdown",
   "id": "aebd9bbe-daf3-4158-8820-4c77566da486",
   "metadata": {},
   "source": [
    "## Exercise"
   ]
  },
  {
   "cell_type": "markdown",
   "id": "371bc55c-b6c8-46d5-b6e2-02a20a94b19d",
   "metadata": {},
   "source": [
    "Q1. Think stats is a free book to study statistics (https://greenteapress.com/thinkstats2/thinkstats2.pdf)\r\n",
    "\r\n",
    "This book has references to many websites from where you can download free datasets. You are an NLP engineer working for some company and you want to collect all dataset websites from this book. To keep exercise simple you are given a paragraph from this book and you want to grab all urls from this paragraph using spacy"
   ]
  },
  {
   "cell_type": "code",
   "execution_count": 13,
   "id": "0661e688-4e54-44e2-89f5-619bea999e87",
   "metadata": {},
   "outputs": [],
   "source": [
    "text='''\n",
    "Look for data to help you address the question. Governments are good\n",
    "sources because data from public research is often freely available. Good\n",
    "places to start include http://www.data.gov/, and http://www.science.\n",
    "gov/, and in the United Kingdom, http://data.gov.uk/.\n",
    "Two of my favorite data sets are the General Social Survey at http://www3.norc.org/gss+website/, \n",
    "and the European Social Survey at http://www.europeansocialsurvey.org/.\n",
    "'''\n",
    "\n",
    "# TODO: Write code here\n",
    "# Hint: token has an attribute that can be used to detect a url"
   ]
  },
  {
   "cell_type": "code",
   "execution_count": 22,
   "id": "d7b998a7-b8b9-45bc-8a94-c6abb6b31069",
   "metadata": {},
   "outputs": [
    {
     "data": {
      "text/plain": [
       "['http://www.data.gov/',\n",
       " 'http://www.science',\n",
       " 'http://data.gov.uk/.',\n",
       " 'http://www3.norc.org/gss+website/',\n",
       " 'http://www.europeansocialsurvey.org/.']"
      ]
     },
     "execution_count": 22,
     "metadata": {},
     "output_type": "execute_result"
    }
   ],
   "source": [
    "doc = nlp(text)\n",
    "\n",
    "urls = [token.text for token in doc if token.like_url]\n",
    "urls"
   ]
  },
  {
   "cell_type": "code",
   "execution_count": null,
   "id": "185426a8-fbf7-48b0-8cad-931244a88209",
   "metadata": {},
   "outputs": [],
   "source": []
  },
  {
   "cell_type": "markdown",
   "id": "deebb964-85a2-4473-a813-f665744aab56",
   "metadata": {},
   "source": [
    "Q2. Extract all money transaction from below sentence along with currency. \n",
    "\n",
    "Output should be, <br>\n",
    "two $, 500 \n",
    "5.00 €"
   ]
  },
  {
   "cell_type": "code",
   "execution_count": 24,
   "id": "31c065d8-cca8-4787-b25d-16646507b3ae",
   "metadata": {},
   "outputs": [],
   "source": [
    "transactions = \"Tony gave two $ to Peter, Bruce gave 500 € to Steve\"\n",
    "\n",
    "# TODO: Write code here\n",
    "# Hint: Use token.i for the index of a token and token.is_currency for currency symbol detection"
   ]
  },
  {
   "cell_type": "code",
   "execution_count": 55,
   "id": "6f0266c1-84b1-4458-b55d-1604ff6c9555",
   "metadata": {},
   "outputs": [
    {
     "name": "stdout",
     "output_type": "stream",
     "text": [
      "(two, $)\n",
      "(500, €)\n"
     ]
    }
   ],
   "source": [
    "doc = nlp(transactions)\n",
    "\n",
    "currency = [(token, doc[token.i+1]) for token in doc if token.like_num and doc[token.i+1].is_currency]\n",
    "print(*currency, sep=\"\\n\")"
   ]
  },
  {
   "cell_type": "code",
   "execution_count": null,
   "id": "8e438827-9f05-48fa-84e8-f304b3f060d3",
   "metadata": {},
   "outputs": [],
   "source": []
  }
 ],
 "metadata": {
  "kernelspec": {
   "display_name": "Python 3 (ipykernel)",
   "language": "python",
   "name": "python3"
  },
  "language_info": {
   "codemirror_mode": {
    "name": "ipython",
    "version": 3
   },
   "file_extension": ".py",
   "mimetype": "text/x-python",
   "name": "python",
   "nbconvert_exporter": "python",
   "pygments_lexer": "ipython3",
   "version": "3.10.11"
  }
 },
 "nbformat": 4,
 "nbformat_minor": 5
}
