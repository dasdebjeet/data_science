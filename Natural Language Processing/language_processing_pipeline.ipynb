{
 "cells": [
  {
   "cell_type": "markdown",
   "id": "529c53dc-2b8f-435c-b4f2-da2a6a9707c1",
   "metadata": {},
   "source": [
    "# Language Processing pipeline (Spacy)"
   ]
  },
  {
   "cell_type": "code",
   "execution_count": 1,
   "id": "e64cf8b6-8210-40db-8d23-579e09266ce5",
   "metadata": {},
   "outputs": [],
   "source": [
    "import spacy\n",
    "nlp = spacy.blank(\"en\") # here we are loading a black pipeline"
   ]
  },
  {
   "cell_type": "code",
   "execution_count": 2,
   "id": "d15787b6-d1de-4869-af45-9fa1b241bdd8",
   "metadata": {},
   "outputs": [
    {
     "name": "stdout",
     "output_type": "stream",
     "text": [
      "Tylor\n",
      "wants\n",
      "to\n",
      "play\n",
      "with\n",
      "Brian\n",
      "but\n",
      "Brain\n",
      "does\n",
      "n't\n",
      "want\n",
      "to\n",
      "play\n",
      "with\n",
      "him\n"
     ]
    }
   ],
   "source": [
    "doc = nlp(\"Tylor wants to play with Brian but Brain doesn't want to play with him\")\n",
    "for token in doc:\n",
    "    print(token)"
   ]
  },
  {
   "cell_type": "code",
   "execution_count": 3,
   "id": "57b8568b-0dd1-44e8-8ed4-070a6f901d6a",
   "metadata": {},
   "outputs": [
    {
     "data": {
      "text/plain": [
       "[]"
      ]
     },
     "execution_count": 3,
     "metadata": {},
     "output_type": "execute_result"
    }
   ],
   "source": [
    "nlp.pipe_names # will give a blank array cuz we load it blank"
   ]
  },
  {
   "cell_type": "code",
   "execution_count": 5,
   "id": "5cfd8a3f-c85f-4af7-9b17-0ae7dbec0083",
   "metadata": {},
   "outputs": [
    {
     "name": "stdout",
     "output_type": "stream",
     "text": [
      "Tylor  |  PROPN  |  Tylor\n",
      "wants  |  VERB  |  want\n",
      "to  |  PART  |  to\n",
      "play  |  VERB  |  play\n",
      "with  |  ADP  |  with\n",
      "Brian  |  PROPN  |  Brian\n",
      "but  |  CCONJ  |  but\n",
      "Brain  |  PROPN  |  Brain\n",
      "does  |  AUX  |  do\n",
      "n't  |  PART  |  not\n",
      "want  |  VERB  |  want\n",
      "to  |  PART  |  to\n",
      "play  |  VERB  |  play\n",
      "with  |  ADP  |  with\n",
      "him  |  PRON  |  he\n"
     ]
    }
   ],
   "source": [
    "nlp = spacy.load(\"en_core_web_sm\") # now loading with a english pipeline\n",
    "doc = nlp(\"Tylor wants to play with Brian but Brain doesn't want to play with him\")\n",
    "for token in doc:\n",
    "    print(token, \" | \", token.pos_, \" | \", token.lemma_) # token | part of speech | lemma (base word)"
   ]
  },
  {
   "cell_type": "code",
   "execution_count": 6,
   "id": "5a6ddcb2-7a9d-45a9-9e3a-8744bec43449",
   "metadata": {},
   "outputs": [
    {
     "data": {
      "text/plain": [
       "[('tok2vec', <spacy.pipeline.tok2vec.Tok2Vec at 0x273d2b4f7c0>),\n",
       " ('tagger', <spacy.pipeline.tagger.Tagger at 0x273d6b08400>),\n",
       " ('parser', <spacy.pipeline.dep_parser.DependencyParser at 0x273d69a2c00>),\n",
       " ('attribute_ruler',\n",
       "  <spacy.pipeline.attributeruler.AttributeRuler at 0x273d6c09d00>),\n",
       " ('lemmatizer', <spacy.lang.en.lemmatizer.EnglishLemmatizer at 0x273d6cf5380>),\n",
       " ('ner', <spacy.pipeline.ner.EntityRecognizer at 0x273d69a2c70>)]"
      ]
     },
     "execution_count": 6,
     "metadata": {},
     "output_type": "execute_result"
    }
   ],
   "source": [
    "nlp.pipeline # this will show us the whole pipeline"
   ]
  },
  {
   "cell_type": "code",
   "execution_count": 7,
   "id": "8879acc8-d0cd-47e8-ad8a-835bc075aac0",
   "metadata": {},
   "outputs": [
    {
     "data": {
      "text/plain": [
       "['tok2vec', 'tagger', 'parser', 'attribute_ruler', 'lemmatizer', 'ner']"
      ]
     },
     "execution_count": 7,
     "metadata": {},
     "output_type": "execute_result"
    }
   ],
   "source": [
    "nlp.pipe_names"
   ]
  },
  {
   "cell_type": "code",
   "execution_count": null,
   "id": "b364741c-9106-42fb-9b8a-82d4462bb625",
   "metadata": {},
   "outputs": [],
   "source": []
  },
  {
   "cell_type": "markdown",
   "id": "0318bc92-8d74-4d21-bd8f-9044269ad33b",
   "metadata": {},
   "source": [
    "## Named entity recognition (NER)"
   ]
  },
  {
   "cell_type": "code",
   "execution_count": 11,
   "id": "60c21cfb-d4df-4e20-8c1f-fbd8d959e0fe",
   "metadata": {},
   "outputs": [
    {
     "name": "stdout",
     "output_type": "stream",
     "text": [
      "Nvida INC  |  ORG  |  Companies, agencies, institutions, etc.\n",
      "Google  |  ORG  |  Companies, agencies, institutions, etc.\n",
      "1$  |  MONEY  |  Monetary values, including unit\n"
     ]
    }
   ],
   "source": [
    "doc = nlp(\"Nvida INC is aquired by Google LLC for 1$\")\n",
    "for ent in doc.ents:\n",
    "    print(ent.text, \" | \", ent.label_, \" | \", spacy.explain(ent.label_)) # this will show us the Named Entity Recognisation (ner)"
   ]
  },
  {
   "cell_type": "code",
   "execution_count": 12,
   "id": "85aeb5b0-66ce-4f88-b5a8-fa0736001e48",
   "metadata": {},
   "outputs": [
    {
     "data": {
      "text/html": [
       "<span class=\"tex2jax_ignore\"><div class=\"entities\" style=\"line-height: 2.5; direction: ltr\">\n",
       "<mark class=\"entity\" style=\"background: #7aecec; padding: 0.45em 0.6em; margin: 0 0.25em; line-height: 1; border-radius: 0.35em;\">\n",
       "    Nvida INC\n",
       "    <span style=\"font-size: 0.8em; font-weight: bold; line-height: 1; border-radius: 0.35em; vertical-align: middle; margin-left: 0.5rem\">ORG</span>\n",
       "</mark>\n",
       " is aquired by \n",
       "<mark class=\"entity\" style=\"background: #7aecec; padding: 0.45em 0.6em; margin: 0 0.25em; line-height: 1; border-radius: 0.35em;\">\n",
       "    Google\n",
       "    <span style=\"font-size: 0.8em; font-weight: bold; line-height: 1; border-radius: 0.35em; vertical-align: middle; margin-left: 0.5rem\">ORG</span>\n",
       "</mark>\n",
       " LLC for \n",
       "<mark class=\"entity\" style=\"background: #e4e7d2; padding: 0.45em 0.6em; margin: 0 0.25em; line-height: 1; border-radius: 0.35em;\">\n",
       "    1$\n",
       "    <span style=\"font-size: 0.8em; font-weight: bold; line-height: 1; border-radius: 0.35em; vertical-align: middle; margin-left: 0.5rem\">MONEY</span>\n",
       "</mark>\n",
       "</div></span>"
      ],
      "text/plain": [
       "<IPython.core.display.HTML object>"
      ]
     },
     "metadata": {},
     "output_type": "display_data"
    }
   ],
   "source": [
    "from spacy import displacy # cool way to diplay the document\n",
    "\n",
    "displacy.render(doc, style=\"ent\")"
   ]
  },
  {
   "cell_type": "code",
   "execution_count": null,
   "id": "0ba1f0a8-2715-460f-b84b-0af2aca09d1d",
   "metadata": {},
   "outputs": [],
   "source": []
  }
 ],
 "metadata": {
  "kernelspec": {
   "display_name": "Python 3 (ipykernel)",
   "language": "python",
   "name": "python3"
  },
  "language_info": {
   "codemirror_mode": {
    "name": "ipython",
    "version": 3
   },
   "file_extension": ".py",
   "mimetype": "text/x-python",
   "name": "python",
   "nbconvert_exporter": "python",
   "pygments_lexer": "ipython3",
   "version": "3.10.11"
  }
 },
 "nbformat": 4,
 "nbformat_minor": 5
}
